{
 "cells": [
  {
   "cell_type": "code",
   "execution_count": 1,
   "metadata": {},
   "outputs": [],
   "source": [
    "import random\n",
    "import math\n",
    "\n",
    "def calculate_mae(targets, predictions):\n",
    "    n = len(targets)\n",
    "    return sum(abs(targets[i] - predictions[i]) for i in range(n)) / n\n",
    "\n",
    "def calculate_mse(targets, predictions):\n",
    "    n = len(targets)\n",
    "    return sum((targets[i] - predictions[i]) ** 2 for i in range(n)) / n\n",
    "\n",
    "def calculate_rmse(targets, predictions):\n",
    "    mse = calculate_mse(targets, predictions)\n",
    "    return math.sqrt(mse)\n",
    "\n",
    "def regression_loss_function(num_samples, loss_name):\n",
    "    \"\"\"\n",
    "    Hàm tính toán loss cho các regression loss function.\n",
    "    :param num_samples: Số lượng samples.\n",
    "    :param loss_name: Tên của loss function ('MAE', 'MSE', 'RMSE').\n",
    "    \"\"\"\n",
    "    if not num_samples.isnumeric():\n",
    "        print('number of samples must be an integer number')\n",
    "        return\n",
    "\n",
    "    num_samples = int(num_samples)\n",
    "    targets = [random.uniform(0, 10) for _ in range(num_samples)]\n",
    "    predictions = [random.uniform(0, 10) for _ in range(num_samples)]\n",
    "\n",
    "    if loss_name == 'MAE':\n",
    "        loss = calculate_mae(targets, predictions)\n",
    "    elif loss_name == 'MSE':\n",
    "        loss = calculate_mse(targets, predictions)\n",
    "    elif loss_name == 'RMSE':\n",
    "        loss = calculate_rmse(targets, predictions)\n",
    "    else:\n",
    "        print(f'{loss_name} is not supported')\n",
    "        return\n",
    "\n",
    "    for i in range(num_samples):\n",
    "        print(f'sample-{i}: predict={predictions[i]:.2f}, target={targets[i]:.2f}')\n",
    "\n",
    "    print(f'{loss_name}: loss={loss:.2f}')\n",
    "\n",
    "\n",
    "def exercise3():    \n",
    "    num_samples = input(\"Nhập số lượng samples: \")\n",
    "    if not num_samples.isnumeric():\n",
    "        print('number of samples must be an integer number')\n",
    "        return\n",
    "    loss_name = input(\"Nhập tên loss function (MAE, MSE, RMSE): \")\n",
    "    regression_loss_function(num_samples, loss_name)"
   ]
  },
  {
   "cell_type": "code",
   "execution_count": 5,
   "metadata": {},
   "outputs": [
    {
     "name": "stdout",
     "output_type": "stream",
     "text": [
      "sample-0: predict=4.42, target=2.51\n",
      "sample-1: predict=6.83, target=8.74\n",
      "sample-2: predict=0.38, target=1.99\n",
      "sample-3: predict=6.47, target=0.06\n",
      "sample-4: predict=3.50, target=3.89\n",
      "RMSE: loss=3.20\n"
     ]
    }
   ],
   "source": [
    "exercise3()"
   ]
  }
 ],
 "metadata": {
  "kernelspec": {
   "display_name": "Python 3 (ipykernel)",
   "language": "python",
   "name": "python3"
  },
  "language_info": {
   "codemirror_mode": {
    "name": "ipython",
    "version": 3
   },
   "file_extension": ".py",
   "mimetype": "text/x-python",
   "name": "python",
   "nbconvert_exporter": "python",
   "pygments_lexer": "ipython3",
   "version": "3.11.7"
  }
 },
 "nbformat": 4,
 "nbformat_minor": 2
}
