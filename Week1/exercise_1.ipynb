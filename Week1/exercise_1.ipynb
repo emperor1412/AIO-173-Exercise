{
 "cells": [
  {
   "cell_type": "code",
   "execution_count": 2,
   "metadata": {},
   "outputs": [],
   "source": [
    "def exercise1(tp, fp, fn):\n",
    "    \"\"\"\n",
    "    Hàm đánh giá mô hình phân loại bằng F1-Score.\n",
    "\n",
    "    :param tp: Số lượng True Positive.\n",
    "    :param fp: Số lượng False Positive.\n",
    "    :param fn: Số lượng False Negative.\n",
    "    \"\"\"\n",
    "    # Kiểm tra kiểu dữ liệu của các tham số đầu vào\n",
    "    if not isinstance(tp, int):\n",
    "        print('tp must be int')\n",
    "        return\n",
    "    if not isinstance(fp, int):\n",
    "        print('fp must be int')\n",
    "        return\n",
    "    if not isinstance(fn, int):\n",
    "        print('fn must be int')\n",
    "        return\n",
    "\n",
    "    # Kiểm tra giá trị của các tham số đầu vào\n",
    "    if tp <= 0 or fp <= 0 or fn <= 0:\n",
    "        print('tp and fp and fn must be greater than zero')\n",
    "        return\n",
    "\n",
    "    # Tính toán Precision, Recall và F1-Score\n",
    "    precision = tp / (tp + fp)\n",
    "    recall = tp / (tp + fn)\n",
    "    f1_score = 2 * (precision * recall) / (precision + recall)\n",
    "\n",
    "    # In kết quả\n",
    "    print(f\"Precision: {precision}\")\n",
    "    print(f\"Recall: {recall}\")\n",
    "    print(f\"F1-Score: {f1_score}\")"
   ]
  },
  {
   "cell_type": "code",
   "execution_count": 8,
   "metadata": {},
   "outputs": [
    {
     "name": "stdout",
     "output_type": "stream",
     "text": [
      "Precision: 0.4\n",
      "Recall: 0.3333333333333333\n",
      "F1-Score: 0.3636363636363636\n",
      "tp must be int\n",
      "fp must be int\n",
      "tp and fp and fn must be greater than zero\n",
      "tp must be int\n"
     ]
    }
   ],
   "source": [
    "exercise1(tp=2, fp=3, fn=4)\n",
    "exercise1(tp='a', fp=3, fn=4)\n",
    "exercise1(tp=2, fp='a', fn=4)\n",
    "exercise1(tp=2, fp=3, fn=0)\n",
    "exercise1(tp=2.1, fp=3, fn=0)"
   ]
  }
 ],
 "metadata": {
  "kernelspec": {
   "display_name": "Python 3 (ipykernel)",
   "language": "python",
   "name": "python3"
  },
  "language_info": {
   "codemirror_mode": {
    "name": "ipython",
    "version": 3
   },
   "file_extension": ".py",
   "mimetype": "text/x-python",
   "name": "python",
   "nbconvert_exporter": "python",
   "pygments_lexer": "ipython3",
   "version": "3.11.7"
  }
 },
 "nbformat": 4,
 "nbformat_minor": 2
}
