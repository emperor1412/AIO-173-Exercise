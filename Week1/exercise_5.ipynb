{
 "cells": [
  {
   "cell_type": "code",
   "execution_count": 5,
   "metadata": {},
   "outputs": [],
   "source": [
    "def md_nre_single_sample(y, y_hat, n, p):\n",
    "    \"\"\"\n",
    "    Hàm tính Mean Difference of nth Root Error (MD_nRE) cho một cặp giá trị thực tế và dự đoán.\n",
    "    :param y: Giá trị thực tế.\n",
    "    :param y_hat: Giá trị dự đoán.\n",
    "    :param n: Căn bậc n.\n",
    "    :param p: Bậc của hàm loss.\n",
    "    :return: Giá trị MD_nRE.\n",
    "    \"\"\"\n",
    "    md_nre = abs((y ** (1/n)) - (y_hat ** (1/n))) ** p\n",
    "    return md_nre\n",
    "\n",
    "def mean_difference_nth_root_error(y, y_hat, n, p):\n",
    "    \"\"\"\n",
    "    Hàm tính Mean Difference of nth Root Error (MD_nRE).\n",
    "    :param y: Danh sách các giá trị thực tế.\n",
    "    :param y_hat: Danh sách các giá trị dự đoán.\n",
    "    :param n: Căn bậc n.\n",
    "    :param p: Bậc của hàm loss.\n",
    "    :return: Giá trị MD_nRE.\n",
    "    \"\"\"\n",
    "    if len(y) != len(y_hat):\n",
    "        raise ValueError(\"y và y_hat phải có cùng độ dài\")\n",
    "\n",
    "    m = len(y)\n",
    "    total = 0\n",
    "    for i in range(m):\n",
    "        total += md_nre_single_sample(y[i], y_hat[i], n, p)\n",
    "\n",
    "    md_nre = total / m\n",
    "    return md_nre\n",
    "\n"
   ]
  },
  {
   "cell_type": "code",
   "execution_count": 6,
   "metadata": {},
   "outputs": [
    {
     "name": "stdout",
     "output_type": "stream",
     "text": [
      "MD_nRE (n=2, p=1): 0.11497459325012967\n"
     ]
    }
   ],
   "source": [
    "# Ví dụ sử dụng\n",
    "y = [100, 50, 20, 5, 0.5, 0.6]\n",
    "y_hat = [99.5, 49.5, 19.5, 4.5, 0.5, 0.1]\n",
    "n = 2\n",
    "p = 1\n",
    "\n",
    "md_nre = mean_difference_nth_root_error(y, y_hat, n, p)\n",
    "print(f\"MD_nRE (n={n}, p={p}): {md_nre}\")"
   ]
  },
  {
   "cell_type": "code",
   "execution_count": 7,
   "metadata": {},
   "outputs": [
    {
     "data": {
      "text/plain": [
       "0.025031328369998107"
      ]
     },
     "execution_count": 7,
     "metadata": {},
     "output_type": "execute_result"
    }
   ],
   "source": [
    "md_nre_single_sample(y=100, y_hat =99.5, n=2, p=1)"
   ]
  },
  {
   "cell_type": "code",
   "execution_count": 8,
   "metadata": {},
   "outputs": [
    {
     "data": {
      "text/plain": [
       "0.03544417213033135"
      ]
     },
     "execution_count": 8,
     "metadata": {},
     "output_type": "execute_result"
    }
   ],
   "source": [
    "md_nre_single_sample(y=50, y_hat =49.5, n=2, p=1)"
   ]
  },
  {
   "cell_type": "code",
   "execution_count": 10,
   "metadata": {},
   "outputs": [
    {
     "data": {
      "text/plain": [
       "0.05625552183565574"
      ]
     },
     "execution_count": 10,
     "metadata": {},
     "output_type": "execute_result"
    }
   ],
   "source": [
    "md_nre_single_sample(y=20, y_hat =19.5, n=2, p=1)"
   ]
  },
  {
   "cell_type": "code",
   "execution_count": 11,
   "metadata": {},
   "outputs": [
    {
     "data": {
      "text/plain": [
       "0.45836890322464546"
      ]
     },
     "execution_count": 11,
     "metadata": {},
     "output_type": "execute_result"
    }
   ],
   "source": [
    "md_nre_single_sample(y=0.6, y_hat =0.1, n=2, p=1)"
   ]
  }
 ],
 "metadata": {
  "kernelspec": {
   "display_name": "Python 3 (ipykernel)",
   "language": "python",
   "name": "python3"
  },
  "language_info": {
   "codemirror_mode": {
    "name": "ipython",
    "version": 3
   },
   "file_extension": ".py",
   "mimetype": "text/x-python",
   "name": "python",
   "nbconvert_exporter": "python",
   "pygments_lexer": "ipython3",
   "version": "3.11.7"
  }
 },
 "nbformat": 4,
 "nbformat_minor": 2
}
