{
 "cells": [
  {
   "cell_type": "code",
   "execution_count": 7,
   "metadata": {},
   "outputs": [],
   "source": [
    "import math\n",
    "\n",
    "def is_number(s):\n",
    "    \"\"\"\n",
    "    Kiểm tra xem một giá trị có phải là số hay không.\n",
    "    :param s: Giá trị cần kiểm tra.\n",
    "    :return: True nếu là số, ngược lại False.\n",
    "    \"\"\"\n",
    "    try:\n",
    "        float(s)\n",
    "        return True\n",
    "    except ValueError:\n",
    "        return False\n",
    "\n",
    "def sigmoid(x):\n",
    "    return 1 / (1 + math.exp(-x))\n",
    "\n",
    "def relu(x):\n",
    "    return max(0, x)\n",
    "\n",
    "def elu(x, alpha=0.01):\n",
    "    return x if x > 0 else alpha * (math.exp(x) - 1)\n",
    "\n",
    "def activation_function(x, function_name):\n",
    "    \"\"\"\n",
    "    Hàm thực hiện các activation function.\n",
    "    :param x: Giá trị đầu vào.\n",
    "    :param function_name: Tên của activation function ('sigmoid', 'relu', 'elu').\n",
    "    \"\"\"\n",
    "    if not is_number(x):\n",
    "        print('x must be a number')\n",
    "        return\n",
    "\n",
    "    x = float(x)\n",
    "\n",
    "    if function_name == 'sigmoid':\n",
    "        result = sigmoid(x)\n",
    "    elif function_name == 'relu':\n",
    "        result = relu(x)\n",
    "    elif function_name == 'elu':\n",
    "        result = elu(x)\n",
    "    else:\n",
    "        print(f'{function_name} is not supported')\n",
    "        return\n",
    "\n",
    "    print(f'{function_name}: f({x})={result}')\n",
    "\n",
    "def exercise2():\n",
    "    x = input(\"Nhập giá trị x: \")\n",
    "    if not is_number(x):\n",
    "        print('x must be a number')\n",
    "        return\n",
    "    function_name = input(\"Nhập tên activation function (sigmoid, relu, elu): \")\n",
    "    activation_function(x, function_name)"
   ]
  },
  {
   "cell_type": "code",
   "execution_count": 9,
   "metadata": {},
   "outputs": [
    {
     "name": "stdout",
     "output_type": "stream",
     "text": [
      "belu is not supported\n"
     ]
    }
   ],
   "source": [
    "exercise2 ()"
   ]
  }
 ],
 "metadata": {
  "kernelspec": {
   "display_name": "Python 3 (ipykernel)",
   "language": "python",
   "name": "python3"
  },
  "language_info": {
   "codemirror_mode": {
    "name": "ipython",
    "version": 3
   },
   "file_extension": ".py",
   "mimetype": "text/x-python",
   "name": "python",
   "nbconvert_exporter": "python",
   "pygments_lexer": "ipython3",
   "version": "3.11.7"
  }
 },
 "nbformat": 4,
 "nbformat_minor": 2
}
