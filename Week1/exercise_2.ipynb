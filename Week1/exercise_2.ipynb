{
 "cells": [
  {
   "cell_type": "code",
   "execution_count": 55,
   "metadata": {},
   "outputs": [],
   "source": [
    "import math\n",
    "\n",
    "def is_number(s):\n",
    "    \"\"\"\n",
    "    Kiểm tra xem một giá trị có phải là số hay không.\n",
    "    :param s: Giá trị cần kiểm tra.\n",
    "    :return: True nếu là số, ngược lại False.\n",
    "    \"\"\"\n",
    "    try:\n",
    "        float(s)\n",
    "        return True\n",
    "    except ValueError:\n",
    "        return False\n",
    "\n",
    "def sigmoid(x):\n",
    "    return 1 / (1 + math.exp(-x))\n",
    "\n",
    "def relu(x):\n",
    "    return max(0, x)\n",
    "\n",
    "def elu(x, alpha=0.01):\n",
    "    return x if x > 0 else alpha * (math.exp(x) - 1)\n",
    "\n",
    "def activation_function(x, act_name):\n",
    "    \"\"\"\n",
    "    Hàm thực hiện các activation function.\n",
    "    :param x: Giá trị đầu vào.\n",
    "    :param function_name: Tên của activation function ('sigmoid', 'relu', 'elu').\n",
    "    \"\"\"\n",
    "    if not is_number(x):\n",
    "        print('x must be a number')\n",
    "        return\n",
    "\n",
    "    x = float(x)\n",
    "\n",
    "    if act_name == 'sigmoid':\n",
    "        result = sigmoid(x)\n",
    "    elif act_name == 'relu':\n",
    "        result = relu(x)\n",
    "    elif act_name == 'elu':\n",
    "        result = elu(x)\n",
    "    else:\n",
    "        print(f'{act_name} is not supported')\n",
    "        return\n",
    "\n",
    "    # print(f'{function_name}: f({x})={result}')\n",
    "    return result\n",
    "\n",
    "def exercise2():\n",
    "    x = input(\"Nhập giá trị x: \")\n",
    "    if not is_number(x):\n",
    "        print('x must be a number')\n",
    "        return\n",
    "    function_name = input(\"Nhập tên activation function (sigmoid, relu, elu): \")\n",
    "    print(activation_function(x, function_name))"
   ]
  },
  {
   "cell_type": "code",
   "execution_count": 52,
   "metadata": {},
   "outputs": [
    {
     "name": "stdout",
     "output_type": "stream",
     "text": [
      "0.9999999999999982\n"
     ]
    }
   ],
   "source": [
    "exercise2 ()"
   ]
  },
  {
   "cell_type": "code",
   "execution_count": 50,
   "metadata": {},
   "outputs": [
    {
     "name": "stdout",
     "output_type": "stream",
     "text": [
      "0.88\n"
     ]
    }
   ],
   "source": [
    "assert round(sigmoid (3), 2) ==0.95\n",
    "print(round(sigmoid (2), 2))"
   ]
  },
  {
   "cell_type": "code",
   "execution_count": 51,
   "metadata": {},
   "outputs": [
    {
     "name": "stdout",
     "output_type": "stream",
     "text": [
      "-0.01\n"
     ]
    }
   ],
   "source": [
    "assert round(elu (1))==1\n",
    "print(round(elu (-1), 2))"
   ]
  },
  {
   "cell_type": "code",
   "execution_count": 56,
   "metadata": {},
   "outputs": [
    {
     "name": "stdout",
     "output_type": "stream",
     "text": [
      "0.95\n"
     ]
    }
   ],
   "source": [
    "assert activation_function(x = 1, act_name='relu') == 1\n",
    "print(round(activation_function(x = 3, act_name='sigmoid'), 2))"
   ]
  }
 ],
 "metadata": {
  "kernelspec": {
   "display_name": "Python 3 (ipykernel)",
   "language": "python",
   "name": "python3"
  },
  "language_info": {
   "codemirror_mode": {
    "name": "ipython",
    "version": 3
   },
   "file_extension": ".py",
   "mimetype": "text/x-python",
   "name": "python",
   "nbconvert_exporter": "python",
   "pygments_lexer": "ipython3",
   "version": "3.11.7"
  }
 },
 "nbformat": 4,
 "nbformat_minor": 2
}
