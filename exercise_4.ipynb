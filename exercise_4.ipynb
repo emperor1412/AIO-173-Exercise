{
 "cells": [
  {
   "cell_type": "code",
   "execution_count": 5,
   "metadata": {},
   "outputs": [],
   "source": [
    "def factorial(n):\n",
    "    \"\"\"\n",
    "    Hàm tính giai thừa của một số nguyên dương.\n",
    "    :param n: Số nguyên dương.\n",
    "    :return: Giai thừa của n.\n",
    "    \"\"\"\n",
    "    if n == 0 or n == 1:\n",
    "        return 1\n",
    "    else:\n",
    "        result = 1\n",
    "        for i in range(2, n + 1):\n",
    "            result *= i\n",
    "        return result\n",
    "\n",
    "def approx_sin(x, n):\n",
    "    \"\"\"\n",
    "    Hàm ước lượng sin(x) sử dụng chuỗi Taylor.\n",
    "    :param x: Giá trị x (radian).\n",
    "    :param n: Số lần lặp muốn xấp xỉ.\n",
    "    :return: Giá trị ước lượng của sin(x).\n",
    "    \"\"\"\n",
    "    result = 0\n",
    "    for i in range(n):\n",
    "        result += ((-1) ** i) * (x ** (2 * i + 1)) / factorial(2 * i + 1)\n",
    "    return result\n",
    "\n",
    "def approx_cos(x, n):\n",
    "    \"\"\"\n",
    "    Hàm ước lượng cos(x) sử dụng chuỗi Taylor.\n",
    "    :param x: Giá trị x (radian).\n",
    "    :param n: Số lần lặp muốn xấp xỉ.\n",
    "    :return: Giá trị ước lượng của cos(x).\n",
    "    \"\"\"\n",
    "    result = 0\n",
    "    for i in range(n):\n",
    "        result += ((-1) ** i) * (x ** (2 * i)) / factorial(2 * i)\n",
    "    return result\n",
    "\n",
    "def approx_sinh(x, n):\n",
    "    \"\"\"\n",
    "    Hàm ước lượng sinh(x) sử dụng chuỗi Taylor.\n",
    "    :param x: Giá trị x (radian).\n",
    "    :param n: Số lần lặp muốn xấp xỉ.\n",
    "    :return: Giá trị ước lượng của sinh(x).\n",
    "    \"\"\"\n",
    "    result = 0\n",
    "    for i in range(n):\n",
    "        result += (x ** (2 * i + 1)) / factorial(2 * i + 1)\n",
    "    return result\n",
    "\n",
    "def approx_cosh(x, n):\n",
    "    \"\"\"\n",
    "    Hàm ước lượng cosh(x) sử dụng chuỗi Taylor.\n",
    "    :param x: Giá trị x (radian).\n",
    "    :param n: Số lần lặp muốn xấp xỉ.\n",
    "    :return: Giá trị ước lượng của cosh(x).\n",
    "    \"\"\"\n",
    "    result = 0\n",
    "    for i in range(n):\n",
    "        result += (x ** (2 * i)) / factorial(2 * i)\n",
    "    return result\n"
   ]
  },
  {
   "cell_type": "code",
   "execution_count": 11,
   "metadata": {},
   "outputs": [
    {
     "name": "stdout",
     "output_type": "stream",
     "text": [
      "0.001592652393160744\n",
      "-0.9999987352210833\n",
      "11.530292029865986\n",
      "11.573574824666185\n"
     ]
    }
   ],
   "source": [
    "print(approx_sin(x=3.14, n=10))\n",
    "print(approx_cos(x=3.14, n=10))\n",
    "print(approx_sinh(x=3.14, n=10))\n",
    "print(approx_cosh(x=3.14, n=10))"
   ]
  }
 ],
 "metadata": {
  "kernelspec": {
   "display_name": "Python 3 (ipykernel)",
   "language": "python",
   "name": "python3"
  },
  "language_info": {
   "codemirror_mode": {
    "name": "ipython",
    "version": 3
   },
   "file_extension": ".py",
   "mimetype": "text/x-python",
   "name": "python",
   "nbconvert_exporter": "python",
   "pygments_lexer": "ipython3",
   "version": "3.11.7"
  }
 },
 "nbformat": 4,
 "nbformat_minor": 2
}
